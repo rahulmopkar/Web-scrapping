{
 "cells": [
  {
   "cell_type": "code",
   "execution_count": 6,
   "metadata": {},
   "outputs": [],
   "source": [
    "import bs4\n",
    "from urllib.request import urlopen as uReq\n",
    "from bs4 import BeautifulSoup as soup\n",
    "my_url = \"http://books.toscrape.com/\""
   ]
  },
  {
   "cell_type": "code",
   "execution_count": 49,
   "metadata": {},
   "outputs": [],
   "source": [
    "uClient = uReq(my_url)\n",
    "page_html = uClient.read()\n",
    "uClient.close()\n",
    "page_soup = soup(page_html,\"html.parser\")\n",
    "containers = page_soup.findAll(\"li\",{\"class\":\"col-xs-6 col-sm-4 col-md-3 col-lg-3\"})\n",
    "container = containers[0]\n",
    "#print(container)\n",
    "#print(9)\n",
    "#print(9)\n"
   ]
  },
  {
   "cell_type": "code",
   "execution_count": 48,
   "metadata": {},
   "outputs": [
    {
     "name": "stdout",
     "output_type": "stream",
     "text": [
      "['in stock', 'in stock', 'in stock', 'in stock', 'in stock', 'in stock', 'in stock', 'in stock', 'in stock', 'in stock', 'in stock', 'in stock', 'in stock', 'in stock', 'in stock', 'in stock', 'in stock', 'in stock', 'in stock', 'in stock']\n"
     ]
    }
   ],
   "source": [
    "s =[]\n",
    "for scontainer in containers:\n",
    "    stock = scontainer.select(\"p\")[2].text.replace(\"\\n\\n    \\n        In stock\\n    \\n\",\"in stock\")\n",
    "    s.append(stock)\n",
    "print(s)"
   ]
  },
  {
   "cell_type": "code",
   "execution_count": 38,
   "metadata": {},
   "outputs": [
    {
     "name": "stdout",
     "output_type": "stream",
     "text": [
      "['£51.77', '£53.74', '£50.10', '£47.82', '£54.23', '£22.65', '£33.34', '£17.93', '£22.60', '£52.15', '£13.99', '£20.66', '£17.46', '£52.29', '£35.02', '£57.25', '£23.88', '£37.59', '£51.33', '£45.17']\n"
     ]
    }
   ],
   "source": [
    "p = []\n",
    "for pcontainer in containers:\n",
    "    price=pcontainer.select(\"div\")[1].p.text\n",
    "    p.append(price)\n",
    "print(p)"
   ]
  },
  {
   "cell_type": "code",
   "execution_count": 27,
   "metadata": {},
   "outputs": [
    {
     "name": "stdout",
     "output_type": "stream",
     "text": [
      "['Three', 'One', 'One', 'Four', 'Five', 'One', 'Four', 'Three', 'Four', 'One', 'Two', 'Four', 'Five', 'Five', 'Five', 'Three', 'One', 'One', 'Two', 'Two']\n"
     ]
    }
   ],
   "source": [
    "r = []\n",
    "for container in containers:\n",
    "    rating = container.p[\"class\"][1]\n",
    "    r.append(rating)\n",
    "print(r)"
   ]
  },
  {
   "cell_type": "code",
   "execution_count": 59,
   "metadata": {},
   "outputs": [
    {
     "name": "stdout",
     "output_type": "stream",
     "text": [
      "The Coming Woman: A Novel Based on the Life of the Infamous Feminist, Victoria Woodhull\n"
     ]
    }
   ],
   "source": [
    "t = []\n",
    "for tcontainer in containers:\n",
    "    title = tcontainer.div.img[\"alt\"]\n",
    "    t.append(title)\n",
    "print(t[7])   "
   ]
  },
  {
   "cell_type": "code",
   "execution_count": 62,
   "metadata": {},
   "outputs": [],
   "source": [
    "f = open(\"Stock of books.csv\",\"w\")\n",
    "f.write(\"Title\" + \",\" + \"Price\" + \",\" +\"Rating\" + \"\\n\")\n",
    "for container in containers:\n",
    "    \n",
    "    #title\n",
    "    title = container.div.img[\"alt\"]\n",
    "    \n",
    "    #rating\n",
    "    rating = container.p[\"class\"][1]\n",
    "    \n",
    "    #price\n",
    "    price=pcontainer.select(\"div\")[1].p.text\n",
    "    \n",
    "    #stock\n",
    "    scontainer.select(\"p\")[2].text.replace(\"\\n\\n    \\n        In stock\\n    \\n\",\"in stock\")\n",
    "    \n",
    "    \n",
    "    #writing to the file\n",
    "    f.write(title.replace(\",\",\"|\") + \",\" + price + \",\" + rating + \"\\n\")\n",
    "f.close()"
   ]
  }
 ],
 "metadata": {
  "kernelspec": {
   "display_name": "Python 3",
   "language": "python",
   "name": "python3"
  },
  "language_info": {
   "codemirror_mode": {
    "name": "ipython",
    "version": 3
   },
   "file_extension": ".py",
   "mimetype": "text/x-python",
   "name": "python",
   "nbconvert_exporter": "python",
   "pygments_lexer": "ipython3",
   "version": "3.7.4"
  }
 },
 "nbformat": 4,
 "nbformat_minor": 2
}
